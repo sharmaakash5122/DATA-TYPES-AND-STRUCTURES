{
  "nbformat": 4,
  "nbformat_minor": 0,
  "metadata": {
    "colab": {
      "provenance": []
    },
    "kernelspec": {
      "name": "python3",
      "display_name": "Python 3"
    },
    "language_info": {
      "name": "python"
    }
  },
  "cells": [
    {
      "cell_type": "code",
      "execution_count": null,
      "metadata": {
        "id": "TEVX3PtdtTiF"
      },
      "outputs": [],
      "source": []
    },
    {
      "cell_type": "markdown",
      "source": [
        "# DATA TYPES AND STRUCTURES\n",
        "\n"
      ],
      "metadata": {
        "id": "n2Vm9870te40"
      }
    },
    {
      "cell_type": "markdown",
      "source": [
        "1.What are data structures, and why are they important ?\n",
        "- Data structures are organized ways to store, manage, and retrieve data efficiently.\n",
        "They define how data is arranged in memory and how operations like insertion, deletion, searching, and sorting are performed.\n",
        "\n",
        "Importance:\n",
        "\n",
        "- Improves efficiency and speed of programs.\n",
        "\n",
        "- Helps in organizing data logically.\n",
        "\n",
        "- Essential for algorithms (like searching, sorting, graph traversal, etc.).\n",
        "\n",
        "- Used in databases, operating systems, and web development.\n",
        "\n",
        "Example:\n",
        "A list in Python stores multiple items together:\n",
        "\n",
        "numbers = [10, 20, 30, 40]\n",
        "\n",
        "\n",
        "Here, numbers is a data structure that holds integers."
      ],
      "metadata": {
        "id": "8Q5VXwwLt11l"
      }
    },
    {
      "cell_type": "markdown",
      "source": [
        "2. Explain the difference between mutable and immutable data types with examples ?\n",
        "\n",
        "- Mutable Data Types:\n",
        "Can be changed after creation.\n",
        "Examples → list, set, dict.\n",
        "\n",
        "- Immutable Data Types:\n",
        "Cannot be changed after creation.\n",
        "Examples → tuple, string, int.\n",
        "\n",
        "Example:\n",
        "\n",
        "-  Mutable\n",
        "a = [1, 2, 3]\n",
        "a[0] = 10  # allowed\n",
        "\n",
        "- Immutable\n",
        "b = (1, 2, 3)\n",
        " b[0] = 10 → ❌ Error\n",
        "\n",
        "\n",
        "So, lists are mutable, while tuples are immutable."
      ],
      "metadata": {
        "id": "QaNPeuv900__"
      }
    },
    {
      "cell_type": "markdown",
      "source": [
        "3. What are the main differences between lists and tuples in Python ?\n",
        "\n",
        "**Lists**\n",
        "\n",
        "- Mutable: You can change, add, or remove items after the list is created.\n",
        "- syntax: Defined using square brackets, e.g., my_list = [1, 2, 3].\n",
        "- Methods: Supports various methods like append(), remove(), and sort().\n",
        "\n",
        "**Tuples**\n",
        "\n",
        "- Immutable: Once created, you cannot modify, add, or remove items.\n",
        "- Syntax: Defined using parentheses, e.g., my_tuple = (1, 2, 3).\n",
        "- Performance: Generally faster than lists for iteration due to their immutability.\n",
        "\n"
      ],
      "metadata": {
        "id": "nS18-pU31dlv"
      }
    },
    {
      "cell_type": "markdown",
      "source": [
        "4.Describe how dictionaries store data ?\n",
        "\n",
        "- Dictionaries in Python store data as key-value pairs using a hash table internally.\n",
        "Each key is unique and maps to a specific value.\n",
        "\n",
        "Example:\n",
        "\n",
        "student = {'name': 'Aman', 'age': 20, 'city': 'Delhi'}\n",
        "\n",
        "\n",
        "'name', 'age', 'city' → Keys\n",
        "\n",
        "'Aman', 20, 'Delhi' → Values\n",
        "\n",
        "- Key Point:\n",
        "Data is accessed quickly using the key instead of an index:\n",
        "\n",
        "print(student['name'])\n",
        "  -  Output: Aman"
      ],
      "metadata": {
        "id": "UOuHgHdB3xcm"
      }
    },
    {
      "cell_type": "markdown",
      "source": [
        "5.Why might you use a set instead of a list in Python ?\n",
        "\n",
        "- A set is used instead of a list when:\n",
        "\n",
        "You need unique elements (no duplicates).\n",
        "\n",
        "You want faster membership testing (in keyword).\n",
        "\n",
        "Order of elements doesn’t matter.\n",
        "\n",
        "Example:\n",
        "\n",
        "nums = [1, 2, 2, 3]\n",
        "\n",
        "unique_nums = set(nums)\n",
        "\n",
        "print(unique_nums)  # {1, 2, 3}\n",
        "\n",
        "\n",
        "Sets automatically remove duplicate values."
      ],
      "metadata": {
        "id": "80pHNWYd4YHq"
      }
    },
    {
      "cell_type": "markdown",
      "source": [
        "6.What is a string in Python, and how is it different from a list ?\n",
        "\n",
        "- A string is a sequence of characters enclosed in quotes (single, double, or triple).\n",
        "Example: my_string = \"Hello, World!\"\n",
        "\n",
        "- A list is an ordered collection of items that can be of different data types, enclosed in square brackets.\n",
        "Example: my_list = [1, \"Hello\", 3.14]\n"
      ],
      "metadata": {
        "id": "OFik421W5E0Q"
      }
    },
    {
      "cell_type": "markdown",
      "source": [
        "7.How do tuples ensure data integrity in Python ?\n",
        "\n",
        "- Tuples are immutable, which means their elements cannot be changed, added, or removed once created.\n",
        "This immutability ensures that data remains consistent and safe throughout the program.\n",
        "\n",
        "Example:\n",
        "\n",
        "coordinates = (10, 20)\n",
        " coordinates[0] = 15 → ❌ Error\n",
        "\n",
        "\n",
        "Hence, tuples are ideal for read-only or constant data."
      ],
      "metadata": {
        "id": "0_ZUDiuL5-1h"
      }
    },
    {
      "cell_type": "markdown",
      "source": [
        "8.What is a hash table, and how does it relate to dictionaries in Python ?\n",
        "\n",
        "- A hash table is a data structure that stores data in key-value pairs.\n",
        "It uses a hash function to compute an index (hash) for each key, allowing fast data access.\n",
        "\n",
        "In Python, dictionaries are implemented using hash tables.\n",
        "\n",
        "Example:\n",
        "\n",
        "student = {'id': 101, 'name': 'Ravi'}\n",
        "\n",
        "\n",
        "Here, each key ('id', 'name') is hashed to store and retrieve values quickly\n"
      ],
      "metadata": {
        "id": "C53MSgCT6VV4"
      }
    },
    {
      "cell_type": "markdown",
      "source": [
        "9.Can lists contain different data types in Python ?\n",
        "\n",
        "- Lists in Python can store elements of different data types — integers, strings, floats, booleans, etc.\n",
        "\n",
        "Example:\n",
        "\n",
        "mixed_list = [1, \"Hello\", 3.14, True]\n",
        "\n",
        "\n",
        "This flexibility makes lists very useful for general-purpose data storage."
      ],
      "metadata": {
        "id": "dwb_lKlQ6xUP"
      }
    },
    {
      "cell_type": "markdown",
      "source": [
        "10. Explain why strings are immutable in Python ?\n",
        "\n",
        "- Strings are immutable because each time a modification is made, a new string object is created.\n",
        "This helps with:\n",
        "\n",
        "- Memory safety\n",
        "\n",
        "- Performance optimization\n",
        "\n",
        "- Thread safety (same string can be used by multiple functions safely)\n",
        "\n",
        "Example:\n",
        "\n",
        "s = \"hello\"\n",
        "s = s + \" world\"  # new string created\n",
        "print(s)  # hello world\n",
        "\n",
        "\n",
        "The original \"hello\" remains unchanged; a new string is created."
      ],
      "metadata": {
        "id": "UQ6spJ_x7Bhf"
      }
    },
    {
      "cell_type": "markdown",
      "source": [
        "11.What advantages do dictionaries offer over lists for certain tasks ?\n",
        "\n",
        "- Dictionaries are more powerful than lists when you need to associate unique keys with specific values and perform fast lookups.\n",
        "\n",
        "Advantages:\n",
        "\n",
        "Fast Access: Accessing data by key is very quick (O(1) time).\n",
        "\n",
        "1. Key-based Lookup: You don’t need to remember positions like in lists.\n",
        "\n",
        "2. Readable Code: Data is more meaningful with keys.\n",
        "\n",
        "3. Dynamic Updates: You can easily add or remove key-value pairs.\n",
        "\n",
        "Example:\n",
        "\n",
        "- Using dictionary\n",
        "student = {'name': 'Rohit', 'age': 21}\n",
        "print(student['age'])  # 21\n",
        "\n",
        "- Using list (harder to understand)\n",
        "student_list = ['Rohit', 21]\n",
        "print(student_list[1])  # 21\n",
        "\n",
        "\n",
        "Hence, dictionaries are preferred for structured data."
      ],
      "metadata": {
        "id": "-NCUnOSt7Wro"
      }
    },
    {
      "cell_type": "markdown",
      "source": [
        "12.Describe a scenario where using a tuple would be preferable over a list ?\n",
        "\n",
        "- Use a tuple when you want to store constant, unchangeable data — i.e., data that should not be modified after creation.\n",
        "\n",
        "Example:\n",
        "\n",
        "DAYS = ('Monday', 'Tuesday', 'Wednesday', 'Thursday', 'Friday')\n",
        "\n",
        "\n",
        "Here, days never change — so a tuple ensures data safety and better performance."
      ],
      "metadata": {
        "id": "4pbNquKwFybz"
      }
    },
    {
      "cell_type": "markdown",
      "source": [
        "13.How do sets handle duplicate values in Python ?\n",
        "\n",
        "- Sets automatically remove duplicate elements because they only store unique values.\n",
        "When duplicates are inserted, Python ignores them.\n",
        "\n",
        "Example:\n",
        "\n",
        "numbers = {1, 2, 2, 3, 3, 3}\n",
        "print(numbers)\n",
        "\n",
        "\n",
        "✅ Output:\n",
        "\n",
        "{1, 2, 3}"
      ],
      "metadata": {
        "id": "La8x996UGLoh"
      }
    },
    {
      "cell_type": "markdown",
      "source": [
        "14. How does the “in” keyword work differently for lists and dictionaries ?\n",
        "\n",
        "- In lists, \"in\" checks if a value exists in the list.\n",
        "\n",
        "In dictionaries, \"in\" checks if a key exists in the dictionary (not the value).\n",
        "\n",
        "Example:\n",
        "\n",
        " List\n",
        "- nums = [10, 20, 30]\n",
        "- print(20 in nums)   \n",
        "-  True → value check\n",
        "\n",
        "\n",
        " Dictionary\n",
        "\n",
        "- student = {'name': 'Amit', 'age': 25}\n",
        "- print('name' in student)  # True → key check\n",
        "- print('Amit' in student)  # False → values not checked"
      ],
      "metadata": {
        "id": "gG24y31BGe8y"
      }
    },
    {
      "cell_type": "markdown",
      "source": [
        "15.Can you modify the elements of a tuple? Explain why or why not ?\n",
        "\n",
        "- ❌ No, you cannot modify elements of a tuple because tuples are immutable.\n",
        "Once created, their elements cannot be changed, added, or removed.\n",
        "\n",
        "Example:\n",
        "\n",
        "t = (10, 20, 30)\n",
        "t[0] = 100  # ❌ TypeError\n",
        "\n",
        "\n",
        "If modification is needed, convert it to a list:\n",
        "\n",
        "- temp = list(t)\n",
        "\n",
        "- temp[0] = 100\n",
        "- t = tuple(temp)\n",
        "\n",
        "\n",
        "So, tuples protect data from accidental changes."
      ],
      "metadata": {
        "id": "XGqppz5-HSTT"
      }
    },
    {
      "cell_type": "markdown",
      "source": [
        "16.What is a nested dictionary, and give an example of its use case ?\n",
        "\n",
        "- A nested dictionary is a dictionary that contains another dictionary as a value.\n",
        "It helps represent complex structured data like student records, products, or users.\n",
        "\n",
        "Example:\n",
        "\n",
        "- student = {\n",
        "  'name': 'Ravi',\n",
        "\n",
        "\n",
        "  'marks': {'math': 90, 'science': 85, 'english': 92}\n",
        "}\n",
        "\n",
        "\n",
        "**Accessing nested data:**\n",
        "\n",
        "- print(student['marks']['science'])  # 85\n",
        "\n",
        "\n",
        "\n",
        "\n",
        "Useful for storing related data hierarchically."
      ],
      "metadata": {
        "id": "p3O95ubLICQL"
      }
    },
    {
      "cell_type": "markdown",
      "source": [
        "17. Describe the time complexity of accessing elements in a dictionary ?\n",
        "\n",
        "- **Average Case**: O(1) (constant time)\n",
        "\n",
        "- **Worst Case**: O(n) (rare, when many keys have same hash)\n",
        "\n",
        "Dictionaries use **hash tables**, so element access by key is extremely fast on average.\n",
        "\n",
        "Example:\n",
        "\n",
        "person = {'name': 'Aman', 'age': 22}\n",
        "\n",
        "print(person['age'])  # O(1) operation."
      ],
      "metadata": {
        "id": "IesVaIi0Iv40"
      }
    },
    {
      "cell_type": "markdown",
      "source": [
        "18. In what situations are lists preferred over dictionaries ?\n",
        "\n",
        "- **Use lists when**:\n",
        "\n",
        "1. The data has no specific key (only ordered items).\n",
        "\n",
        "2. You need to store duplicates.\n",
        "\n",
        "3. You want to maintain sequence and order.\n",
        "\n",
        "4. You will access data by position (index).\n",
        "\n",
        "Example:\n",
        "\n",
        "fruits = ['apple', 'banana', 'cherry']\n",
        "\n",
        "\n",
        "If only order and index matter, a list is simpler and more memory-efficient than a dictionary."
      ],
      "metadata": {
        "id": "W1Q57BJnJeF1"
      }
    },
    {
      "cell_type": "markdown",
      "source": [
        "19.Why are dictionaries considered unordered, and how does that affect data retrieval ?\n",
        "\n",
        "- Earlier versions of Python (<3.7) didn’t maintain the order of key-value pairs.\n",
        "Even now, dictionaries are conceptually **unordered** because they depend on **hashing**, not index positions.\n",
        "\n",
        "- Effect:\n",
        "You can’t rely on the **order of insertion** for logical operations (though modern Python shows insertion order for convenience).\n",
        "\n",
        "Example:\n",
        "\n",
        "d = {'a': 1, 'b': 2, 'c': 3}\n",
        "print(d)\n",
        "\n",
        "\n",
        "The order of keys doesn’t affect lookup since you always use keys, not positions, to access data."
      ],
      "metadata": {
        "id": "u_wOrleVKByq"
      }
    },
    {
      "cell_type": "markdown",
      "source": [
        "20.Explain the difference between a list and a dictionary in terms of data retrieval.\n",
        "\n",
        "- Data Structure Type\n",
        "\n",
        "**List**: An ordered collection of items, indexed by their position (0, 1, 2, etc.).\n",
        "\n",
        "**Dictionary**: An unordered collection of key-value pairs, where each value is accessed via a unique key.\n",
        "\n",
        "**Data Retrieval **\n",
        "\n",
        "**List**:\n",
        "Access items by their index.\n",
        "Example: my_list[0] retrieves the first item.\n",
        "Retrieval time is O(1) for accessing an item by index.\n",
        "\n",
        "**Dictionary:**\n",
        "\n",
        "- Access values using keys.\n",
        "- Example: my_dict['key'] retrieves the value associated with 'key'.\n",
        "- Retrieval time is typically O(1) due to hashing.\n"
      ],
      "metadata": {
        "id": "gycrbsrvKm0j"
      }
    },
    {
      "cell_type": "markdown",
      "source": [
        "# Practical Questions"
      ],
      "metadata": {
        "id": "gJDQ2nKdMHMm"
      }
    },
    {
      "cell_type": "code",
      "source": [
        "'''1.Write a code to create a string with your name and print it.'''\n",
        "name = \"Akash Sharma\"\n",
        "print(name)\n"
      ],
      "metadata": {
        "colab": {
          "base_uri": "https://localhost:8080/"
        },
        "id": "9j-d8QyvMjg7",
        "outputId": "b9c3c476-017d-45f1-98f1-e34a86285e67"
      },
      "execution_count": 2,
      "outputs": [
        {
          "output_type": "stream",
          "name": "stdout",
          "text": [
            "Akash Sharma\n"
          ]
        }
      ]
    },
    {
      "cell_type": "code",
      "source": [
        "'''2. Write a code to find the length of the string \"Hello World\" '''\n",
        "text = \"Hello World\"\n",
        "print(len(text))\n"
      ],
      "metadata": {
        "colab": {
          "base_uri": "https://localhost:8080/"
        },
        "id": "9AKrjloXM-Wm",
        "outputId": "a88cc10e-0631-40ba-c4e4-d000d18ab9bd"
      },
      "execution_count": 3,
      "outputs": [
        {
          "output_type": "stream",
          "name": "stdout",
          "text": [
            "11\n"
          ]
        }
      ]
    },
    {
      "cell_type": "code",
      "source": [
        "'''3. Write a code to slice the first 3 characters from the string \"Python Programming\" '''\n",
        "\n",
        "text = \"Python Programming\"\n",
        "print(text[:3])\n"
      ],
      "metadata": {
        "colab": {
          "base_uri": "https://localhost:8080/"
        },
        "id": "6xGSm_DQNP0T",
        "outputId": "322cf12c-a681-445a-e659-6fbe31014311"
      },
      "execution_count": 4,
      "outputs": [
        {
          "output_type": "stream",
          "name": "stdout",
          "text": [
            "Pyt\n"
          ]
        }
      ]
    },
    {
      "cell_type": "code",
      "source": [
        "'''4.Write a code to convert the string \"hello\" to uppercase '''\n",
        "\n",
        "word = \"hello\"\n",
        "print(word.upper())\n"
      ],
      "metadata": {
        "colab": {
          "base_uri": "https://localhost:8080/"
        },
        "id": "uX-85ek6NrbM",
        "outputId": "07a3d3a8-ec3f-43e3-f5b2-1ede571652ca"
      },
      "execution_count": 5,
      "outputs": [
        {
          "output_type": "stream",
          "name": "stdout",
          "text": [
            "HELLO\n"
          ]
        }
      ]
    },
    {
      "cell_type": "code",
      "source": [
        "'''5.  Write a code to replace the word \"apple\" with \"orange\" in the string \"I like apple\" '''\n",
        "\n",
        "sentence = \"I like apple\"\n",
        "new_sentence = sentence.replace(\"apple\", \"orange\")\n",
        "print(new_sentence)\n"
      ],
      "metadata": {
        "colab": {
          "base_uri": "https://localhost:8080/"
        },
        "id": "3pENfwitN6BY",
        "outputId": "e2978f8b-10db-4e9c-cb8b-b2a19829e685"
      },
      "execution_count": 6,
      "outputs": [
        {
          "output_type": "stream",
          "name": "stdout",
          "text": [
            "I like orange\n"
          ]
        }
      ]
    },
    {
      "cell_type": "code",
      "source": [
        "'''6.Write a code to create a list with numbers 1 to 5 and print it '''\n",
        "\n",
        "numbers = [1, 2, 3, 4, 5]\n",
        "print(numbers)\n"
      ],
      "metadata": {
        "colab": {
          "base_uri": "https://localhost:8080/"
        },
        "id": "OEJV0nGQOLCc",
        "outputId": "adb13722-2cf1-40f2-899f-7b6dba69884a"
      },
      "execution_count": 7,
      "outputs": [
        {
          "output_type": "stream",
          "name": "stdout",
          "text": [
            "[1, 2, 3, 4, 5]\n"
          ]
        }
      ]
    },
    {
      "cell_type": "code",
      "source": [
        "'''7. Write a code to append the number 10 to the list [1, 2, 3, 4] '''\n",
        "\n",
        "numbers = [1, 2, 3, 4]\n",
        "numbers.append(10)\n",
        "print(numbers)\n"
      ],
      "metadata": {
        "colab": {
          "base_uri": "https://localhost:8080/"
        },
        "id": "VG24AjTtOYKu",
        "outputId": "5f397c30-a780-4734-ea45-3b7503819040"
      },
      "execution_count": 8,
      "outputs": [
        {
          "output_type": "stream",
          "name": "stdout",
          "text": [
            "[1, 2, 3, 4, 10]\n"
          ]
        }
      ]
    },
    {
      "cell_type": "code",
      "source": [
        "'''8.Write a code to remove the number 3 from the list [1, 2, 3, 4, 5] '''\n",
        "\n",
        "numbers = [1, 2, 3, 4, 5]\n",
        "numbers.remove(3)\n",
        "print(numbers)\n"
      ],
      "metadata": {
        "colab": {
          "base_uri": "https://localhost:8080/"
        },
        "id": "3IVF_hRQOpIn",
        "outputId": "2da7f788-29c4-483c-bc23-30bd20f0dc90"
      },
      "execution_count": 9,
      "outputs": [
        {
          "output_type": "stream",
          "name": "stdout",
          "text": [
            "[1, 2, 4, 5]\n"
          ]
        }
      ]
    },
    {
      "cell_type": "code",
      "source": [
        "'''9.Write a code to access the second element in the list ['a', 'b', 'c', 'd'] '''\n",
        "\n",
        "letters = ['a', 'b', 'c', 'd']\n",
        "print(letters[1])\n"
      ],
      "metadata": {
        "colab": {
          "base_uri": "https://localhost:8080/"
        },
        "id": "XzMEHacZO1Pl",
        "outputId": "55d1b221-6353-4ac7-d045-ad129279db96"
      },
      "execution_count": 10,
      "outputs": [
        {
          "output_type": "stream",
          "name": "stdout",
          "text": [
            "b\n"
          ]
        }
      ]
    },
    {
      "cell_type": "code",
      "source": [
        "'''10.Write a code to reverse the list [10, 20, 30, 40, 50]. '''\n",
        "\n",
        "numbers = [10, 20, 30, 40, 50]\n",
        "numbers.reverse()\n",
        "print(numbers)\n"
      ],
      "metadata": {
        "colab": {
          "base_uri": "https://localhost:8080/"
        },
        "id": "Rd3nZoeSPCOz",
        "outputId": "434c1435-324c-4358-9e01-b434eca9122a"
      },
      "execution_count": 11,
      "outputs": [
        {
          "output_type": "stream",
          "name": "stdout",
          "text": [
            "[50, 40, 30, 20, 10]\n"
          ]
        }
      ]
    },
    {
      "cell_type": "code",
      "source": [
        "'''11.Write a code to create a tuple with the elements 100, 200, 300 and print it. '''\n",
        "\n",
        "numbers = (100, 200, 300)\n",
        "print(numbers)\n"
      ],
      "metadata": {
        "colab": {
          "base_uri": "https://localhost:8080/"
        },
        "id": "C3G6N8ayPNFN",
        "outputId": "da7ba32b-a55c-4a39-f129-d1c1d993ac9d"
      },
      "execution_count": 12,
      "outputs": [
        {
          "output_type": "stream",
          "name": "stdout",
          "text": [
            "(100, 200, 300)\n"
          ]
        }
      ]
    },
    {
      "cell_type": "code",
      "source": [
        "'''12.Write a code to access the second-to-last element of the tuple ('red', 'green', 'blue', 'yellow'). '''\n",
        "\n",
        "colors = ('red', 'green', 'blue', 'yellow')\n",
        "print(colors[-2])\n"
      ],
      "metadata": {
        "colab": {
          "base_uri": "https://localhost:8080/"
        },
        "id": "jD40i5hbPgb_",
        "outputId": "520c6d53-aaa3-476d-b78a-43221efb304e"
      },
      "execution_count": 13,
      "outputs": [
        {
          "output_type": "stream",
          "name": "stdout",
          "text": [
            "blue\n"
          ]
        }
      ]
    },
    {
      "cell_type": "code",
      "source": [
        "'''13.Write a code to find the minimum number in the tuple (10, 20, 5, 15). '''\n",
        "\n",
        "numbers = (10, 20, 5, 15)\n",
        "print(min(numbers))\n"
      ],
      "metadata": {
        "colab": {
          "base_uri": "https://localhost:8080/"
        },
        "id": "cJB6UWbmPupc",
        "outputId": "0762be06-1ae5-4a9b-e0dc-d49d55bf7a80"
      },
      "execution_count": 14,
      "outputs": [
        {
          "output_type": "stream",
          "name": "stdout",
          "text": [
            "5\n"
          ]
        }
      ]
    },
    {
      "cell_type": "code",
      "source": [
        "'''14. Write a code to find the index of the element \"cat\" in the tuple ('dog', 'cat', 'rabbit'). '''\n",
        "\n",
        "animals = ('dog', 'cat', 'rabbit')\n",
        "print(animals.index('cat'))\n"
      ],
      "metadata": {
        "colab": {
          "base_uri": "https://localhost:8080/"
        },
        "id": "uJA60eTSPvDc",
        "outputId": "6292c036-cb03-40b0-aefb-e51a62bdbe8d"
      },
      "execution_count": 15,
      "outputs": [
        {
          "output_type": "stream",
          "name": "stdout",
          "text": [
            "1\n"
          ]
        }
      ]
    },
    {
      "cell_type": "code",
      "source": [
        "'''15.Write a code to create a tuple containing three different fruits and check if \"kiwi\" is in it. '''\n",
        "\n",
        "fruits = ('apple', 'banana', 'orange')\n",
        "print('kiwi' in fruits)\n"
      ],
      "metadata": {
        "colab": {
          "base_uri": "https://localhost:8080/"
        },
        "id": "wsDK2jqHPvav",
        "outputId": "2725a9ff-f5c5-4be1-f17f-b38222897a01"
      },
      "execution_count": 16,
      "outputs": [
        {
          "output_type": "stream",
          "name": "stdout",
          "text": [
            "False\n"
          ]
        }
      ]
    },
    {
      "cell_type": "code",
      "source": [
        "'''16.Write a code to create a set with the elements 'a', 'b', 'c' and print it. '''\n",
        "\n",
        "letters = {'a', 'b', 'c'}\n",
        "print(letters)\n"
      ],
      "metadata": {
        "colab": {
          "base_uri": "https://localhost:8080/"
        },
        "id": "2Ks9WIcUPvs9",
        "outputId": "aaafe236-eddc-4f22-87f7-f2bc2c10bdac"
      },
      "execution_count": 17,
      "outputs": [
        {
          "output_type": "stream",
          "name": "stdout",
          "text": [
            "{'b', 'c', 'a'}\n"
          ]
        }
      ]
    },
    {
      "cell_type": "code",
      "source": [
        "'''17. Write a code to clear all elements from the set {1, 2, 3, 4, 5}. '''\n",
        "\n",
        "numbers = {1, 2, 3, 4, 5}\n",
        "numbers.clear()\n",
        "print(numbers)\n"
      ],
      "metadata": {
        "colab": {
          "base_uri": "https://localhost:8080/"
        },
        "id": "vcPLhAf2PwIM",
        "outputId": "0f508730-b701-4faf-cd72-1a4aa99a2cee"
      },
      "execution_count": 18,
      "outputs": [
        {
          "output_type": "stream",
          "name": "stdout",
          "text": [
            "set()\n"
          ]
        }
      ]
    },
    {
      "cell_type": "code",
      "source": [
        "'''18.Write a code to remove the element 4 from the set {1, 2, 3, 4}. '''\n",
        "\n",
        "numbers = {1, 2, 3, 4}\n",
        "numbers.remove(4)\n",
        "print(numbers)\n"
      ],
      "metadata": {
        "colab": {
          "base_uri": "https://localhost:8080/"
        },
        "id": "rr-cmQJtQVSd",
        "outputId": "a9bea9b8-11a5-42a5-9bc5-dbfc7f6870d7"
      },
      "execution_count": 19,
      "outputs": [
        {
          "output_type": "stream",
          "name": "stdout",
          "text": [
            "{1, 2, 3}\n"
          ]
        }
      ]
    },
    {
      "cell_type": "code",
      "source": [
        "'''19.Write a code to find the union of two sets {1, 2, 3} and {3, 4, 5}. '''\n",
        "\n",
        "set1 = {1, 2, 3}\n",
        "set2 = {3, 4, 5}\n",
        "print(set1.union(set2))\n"
      ],
      "metadata": {
        "colab": {
          "base_uri": "https://localhost:8080/"
        },
        "id": "trfSkbmjQVt0",
        "outputId": "ac592383-ad53-42a3-f3a9-a73d02e235bb"
      },
      "execution_count": 20,
      "outputs": [
        {
          "output_type": "stream",
          "name": "stdout",
          "text": [
            "{1, 2, 3, 4, 5}\n"
          ]
        }
      ]
    },
    {
      "cell_type": "code",
      "source": [
        "'''20.Write a code to find the intersection of two sets {1, 2, 3} and {2, 3, 4}. '''\n",
        "\n",
        "set1 = {1, 2, 3}\n",
        "set2 = {2, 3, 4}\n",
        "print(set1.intersection(set2))\n"
      ],
      "metadata": {
        "colab": {
          "base_uri": "https://localhost:8080/"
        },
        "id": "VjWcRe_tQV_H",
        "outputId": "3a90fe87-f731-465f-d47e-e24dbdc35e0c"
      },
      "execution_count": 21,
      "outputs": [
        {
          "output_type": "stream",
          "name": "stdout",
          "text": [
            "{2, 3}\n"
          ]
        }
      ]
    },
    {
      "cell_type": "code",
      "source": [
        "'''21. Write a code to create a dictionary with the keys \"name\", \"age\", and \"city\", and print it. '''\n",
        "\n",
        "person = {\"name\": \"John\", \"age\": 25, \"city\": \"New York\"}\n",
        "print(person)\n"
      ],
      "metadata": {
        "colab": {
          "base_uri": "https://localhost:8080/"
        },
        "id": "L_rUoS1SQWWs",
        "outputId": "c4553644-4203-4212-ac5b-9939158d9729"
      },
      "execution_count": 22,
      "outputs": [
        {
          "output_type": "stream",
          "name": "stdout",
          "text": [
            "{'name': 'John', 'age': 25, 'city': 'New York'}\n"
          ]
        }
      ]
    },
    {
      "cell_type": "code",
      "source": [
        "'''22.Write a code to add a new key-value pair \"country\": \"USA\" to the dictionary {'name': 'John', 'age': 25}. '''\n",
        "\n",
        "person = {'name': 'John', 'age': 25}\n",
        "person['country'] = 'USA'\n",
        "print(person)\n"
      ],
      "metadata": {
        "colab": {
          "base_uri": "https://localhost:8080/"
        },
        "id": "aJAqgmccQWxs",
        "outputId": "f03c4cef-5eca-45f3-b8e1-c239fcf61e51"
      },
      "execution_count": 23,
      "outputs": [
        {
          "output_type": "stream",
          "name": "stdout",
          "text": [
            "{'name': 'John', 'age': 25, 'country': 'USA'}\n"
          ]
        }
      ]
    },
    {
      "cell_type": "code",
      "source": [
        "'''23.Write a code to access the value associated with the key \"name\" in the dictionary {'name': 'Alice', 'age': 30}. '''\n",
        "\n",
        "person = {'name': 'Alice', 'age': 30}\n",
        "print(person['name'])\n"
      ],
      "metadata": {
        "colab": {
          "base_uri": "https://localhost:8080/"
        },
        "id": "WLpj8YkmQXI0",
        "outputId": "a8ac18ad-3072-4912-ee7d-2d61a7ca3242"
      },
      "execution_count": 24,
      "outputs": [
        {
          "output_type": "stream",
          "name": "stdout",
          "text": [
            "Alice\n"
          ]
        }
      ]
    },
    {
      "cell_type": "code",
      "source": [
        "'''24. Write a code to remove the key \"age\" from the dictionary {'name': 'Bob', 'age': 22, 'city': 'New York'}.'''\n",
        "\n",
        "person = {'name': 'Bob', 'age': 22, 'city': 'New York'}\n",
        "person.pop('age')\n",
        "print(person)\n"
      ],
      "metadata": {
        "colab": {
          "base_uri": "https://localhost:8080/"
        },
        "id": "q1vl4ptMQXm0",
        "outputId": "96772e9b-fb63-4a07-dd13-09a86dba4d47"
      },
      "execution_count": 25,
      "outputs": [
        {
          "output_type": "stream",
          "name": "stdout",
          "text": [
            "{'name': 'Bob', 'city': 'New York'}\n"
          ]
        }
      ]
    },
    {
      "cell_type": "code",
      "source": [
        "'''25.Write a code to check if the key \"city\" exists in the dictionary {'name': 'Alice', 'city': 'Paris'}.'''\n",
        "\n",
        "person = {'name': 'Alice', 'city': 'Paris'}\n",
        "print('city' in person)\n"
      ],
      "metadata": {
        "colab": {
          "base_uri": "https://localhost:8080/"
        },
        "id": "wvTKDHrdRs2u",
        "outputId": "f6d916d4-83e3-4c17-d612-dc521cd030ba"
      },
      "execution_count": 26,
      "outputs": [
        {
          "output_type": "stream",
          "name": "stdout",
          "text": [
            "True\n"
          ]
        }
      ]
    },
    {
      "cell_type": "code",
      "source": [
        "'''26.Write a code to create a list, a tuple, and a dictionary, and print them all.'''\n",
        "\n",
        "my_list = [1, 2, 3]\n",
        "my_tuple = (4, 5, 6)\n",
        "my_dict = {'a': 7, 'b': 8, 'c': 9}\n",
        "\n",
        "print(\"List:\", my_list)\n",
        "print(\"Tuple:\", my_tuple)\n",
        "print(\"Dictionary:\", my_dict)\n"
      ],
      "metadata": {
        "colab": {
          "base_uri": "https://localhost:8080/"
        },
        "id": "qW79pntjRtPS",
        "outputId": "39da8588-6b9a-4388-b478-56053a27ecf3"
      },
      "execution_count": 27,
      "outputs": [
        {
          "output_type": "stream",
          "name": "stdout",
          "text": [
            "List: [1, 2, 3]\n",
            "Tuple: (4, 5, 6)\n",
            "Dictionary: {'a': 7, 'b': 8, 'c': 9}\n"
          ]
        }
      ]
    },
    {
      "cell_type": "code",
      "source": [
        "'''27. Write a code to create a list of 5 random numbers between 1 and 100, sort it in ascending order, and print the\n",
        "result.(replaced)'''\n",
        "\n",
        "import random\n",
        "\n",
        "numbers = random.sample(range(1, 101), 5)\n",
        "numbers.sort()\n",
        "print(numbers)\n"
      ],
      "metadata": {
        "colab": {
          "base_uri": "https://localhost:8080/"
        },
        "id": "KCGqWe-9Rtnu",
        "outputId": "22dbb879-0d99-4e6e-ea6e-bd6bdaa0a1a5"
      },
      "execution_count": 28,
      "outputs": [
        {
          "output_type": "stream",
          "name": "stdout",
          "text": [
            "[1, 35, 38, 61, 72]\n"
          ]
        }
      ]
    },
    {
      "cell_type": "code",
      "source": [
        "'''28.Write a code to create a list with strings and print the element at the third index.'''\n",
        "\n",
        "words = [\"apple\", \"banana\", \"cherry\", \"date\", \"fig\"]\n",
        "print(words[3])\n"
      ],
      "metadata": {
        "colab": {
          "base_uri": "https://localhost:8080/"
        },
        "id": "KawP8HpqRt8d",
        "outputId": "a1e0b872-78f6-46d8-e353-7c68752a026e"
      },
      "execution_count": 29,
      "outputs": [
        {
          "output_type": "stream",
          "name": "stdout",
          "text": [
            "date\n"
          ]
        }
      ]
    },
    {
      "cell_type": "code",
      "source": [
        "'''29. Write a code to combine two dictionaries into one and print the result.'''\n",
        "\n",
        "dict1 = {'a': 1, 'b': 2}\n",
        "dict2 = {'c': 3, 'd': 4}\n",
        "\n",
        "combined = {**dict1, **dict2}\n",
        "print(combined)\n"
      ],
      "metadata": {
        "colab": {
          "base_uri": "https://localhost:8080/"
        },
        "id": "aro6LUOWRwEA",
        "outputId": "b4b4e26a-6586-4178-db84-141c9ba88b93"
      },
      "execution_count": 30,
      "outputs": [
        {
          "output_type": "stream",
          "name": "stdout",
          "text": [
            "{'a': 1, 'b': 2, 'c': 3, 'd': 4}\n"
          ]
        }
      ]
    },
    {
      "cell_type": "code",
      "source": [
        "'''30. Write a code to convert a list of strings into a set.'''\n",
        "\n",
        "fruits = [\"apple\", \"banana\", \"cherry\", \"apple\"]\n",
        "unique_fruits = set(fruits)\n",
        "print(unique_fruits)\n"
      ],
      "metadata": {
        "colab": {
          "base_uri": "https://localhost:8080/"
        },
        "id": "zw8ls3NGRv4v",
        "outputId": "f5e47f98-777a-4666-a284-2d37668c5e45"
      },
      "execution_count": 31,
      "outputs": [
        {
          "output_type": "stream",
          "name": "stdout",
          "text": [
            "{'apple', 'cherry', 'banana'}\n"
          ]
        }
      ]
    }
  ]
}